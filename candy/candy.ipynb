{
 "cells": [
  {
   "cell_type": "code",
   "execution_count": 29,
   "metadata": {},
   "outputs": [
    {
     "ename": "ModuleNotFoundError",
     "evalue": "No module named 'configETL'",
     "output_type": "error",
     "traceback": [
      "\u001b[1;31m---------------------------------------------------------------------------\u001b[0m",
      "\u001b[1;31mModuleNotFoundError\u001b[0m                       Traceback (most recent call last)",
      "\u001b[1;32m<ipython-input-29-ef8dcfb16e3e>\u001b[0m in \u001b[0;36m<module>\u001b[1;34m\u001b[0m\n\u001b[0;32m      1\u001b[0m \u001b[1;32mimport\u001b[0m \u001b[0mpandas\u001b[0m \u001b[1;32mas\u001b[0m \u001b[0mpd\u001b[0m\u001b[1;33m\u001b[0m\u001b[1;33m\u001b[0m\u001b[0m\n\u001b[0;32m      2\u001b[0m \u001b[1;32mfrom\u001b[0m \u001b[0msqlalchemy\u001b[0m \u001b[1;32mimport\u001b[0m \u001b[0mcreate_engine\u001b[0m\u001b[1;33m\u001b[0m\u001b[1;33m\u001b[0m\u001b[0m\n\u001b[1;32m----> 3\u001b[1;33m \u001b[1;32mfrom\u001b[0m \u001b[0mconfigETL\u001b[0m \u001b[1;32mimport\u001b[0m \u001b[0muid\u001b[0m\u001b[1;33m,\u001b[0m \u001b[0mpwd\u001b[0m\u001b[1;33m,\u001b[0m \u001b[0mdatabase\u001b[0m\u001b[1;33m,\u001b[0m \u001b[0mserver\u001b[0m\u001b[1;33m\u001b[0m\u001b[1;33m\u001b[0m\u001b[0m\n\u001b[0m",
      "\u001b[1;31mModuleNotFoundError\u001b[0m: No module named 'configETL'"
     ]
    }
   ],
   "source": [
    "import pandas as pd\n",
    "from sqlalchemy import create_engine\n",
    "from configETL import uid, pwd, database, server"
   ]
  },
  {
   "cell_type": "code",
   "execution_count": 21,
   "metadata": {},
   "outputs": [],
   "source": [
    "candy_csv = \"../Project2-HalloweenInTheUS/state-by-state-favorite-halloween-candy.xls.csv\""
   ]
  },
  {
   "cell_type": "code",
   "execution_count": 22,
   "metadata": {},
   "outputs": [],
   "source": [
    "candy_df = pd.read_csv(candy_csv)"
   ]
  },
  {
   "cell_type": "code",
   "execution_count": 23,
   "metadata": {},
   "outputs": [
    {
     "data": {
      "text/html": [
       "<div>\n",
       "<style scoped>\n",
       "    .dataframe tbody tr th:only-of-type {\n",
       "        vertical-align: middle;\n",
       "    }\n",
       "\n",
       "    .dataframe tbody tr th {\n",
       "        vertical-align: top;\n",
       "    }\n",
       "\n",
       "    .dataframe thead th {\n",
       "        text-align: right;\n",
       "    }\n",
       "</style>\n",
       "<table border=\"1\" class=\"dataframe\">\n",
       "  <thead>\n",
       "    <tr style=\"text-align: right;\">\n",
       "      <th></th>\n",
       "      <th>State</th>\n",
       "      <th>Top Candy</th>\n",
       "      <th>Top Candy pounds</th>\n",
       "      <th>2nd Place</th>\n",
       "      <th>2nd Place pounds</th>\n",
       "      <th>3rd Place</th>\n",
       "      <th>3rd Place pounds</th>\n",
       "      <th>NAME</th>\n",
       "      <th>geo_point_2d</th>\n",
       "    </tr>\n",
       "  </thead>\n",
       "  <tbody>\n",
       "    <tr>\n",
       "      <th>0</th>\n",
       "      <td>FL</td>\n",
       "      <td>Skittles</td>\n",
       "      <td>660000</td>\n",
       "      <td>Snickers</td>\n",
       "      <td>543529</td>\n",
       "      <td>Reese's Peanut Butter Cups</td>\n",
       "      <td>194117</td>\n",
       "      <td>Florida</td>\n",
       "      <td>28.4770584262, -82.4664183979</td>\n",
       "    </tr>\n",
       "    <tr>\n",
       "      <th>1</th>\n",
       "      <td>AL</td>\n",
       "      <td>Hershey's Mini Chocolate Candy Bars</td>\n",
       "      <td>66000</td>\n",
       "      <td>Candy Corn</td>\n",
       "      <td>40173</td>\n",
       "      <td>Tootsie Pops</td>\n",
       "      <td>34434</td>\n",
       "      <td>Alabama</td>\n",
       "      <td>32.7568799488, -86.8445209909</td>\n",
       "    </tr>\n",
       "    <tr>\n",
       "      <th>2</th>\n",
       "      <td>NC</td>\n",
       "      <td>Reese's Peanut Butter Cups</td>\n",
       "      <td>104940</td>\n",
       "      <td>M&amp;M's</td>\n",
       "      <td>86689</td>\n",
       "      <td>Candy Corn</td>\n",
       "      <td>41063</td>\n",
       "      <td>North Carolina</td>\n",
       "      <td>35.5260232743, -79.1309087166</td>\n",
       "    </tr>\n",
       "    <tr>\n",
       "      <th>3</th>\n",
       "      <td>NE</td>\n",
       "      <td>Sour Patch Kids</td>\n",
       "      <td>105897</td>\n",
       "      <td>Salt Water Taffy</td>\n",
       "      <td>67389</td>\n",
       "      <td>M&amp;M's</td>\n",
       "      <td>24067</td>\n",
       "      <td>Nebraska</td>\n",
       "      <td>41.5271511243, -99.8108558725</td>\n",
       "    </tr>\n",
       "    <tr>\n",
       "      <th>4</th>\n",
       "      <td>OR</td>\n",
       "      <td>Reese's Peanut Butter Cups</td>\n",
       "      <td>91740</td>\n",
       "      <td>M&amp;M's</td>\n",
       "      <td>51374</td>\n",
       "      <td>Tootsie Pops</td>\n",
       "      <td>36696</td>\n",
       "      <td>Oregon</td>\n",
       "      <td>43.9404388614, -120.605272832</td>\n",
       "    </tr>\n",
       "  </tbody>\n",
       "</table>\n",
       "</div>"
      ],
      "text/plain": [
       "  State                            Top Candy  Top Candy pounds  \\\n",
       "0    FL                             Skittles            660000   \n",
       "1    AL  Hershey's Mini Chocolate Candy Bars             66000   \n",
       "2    NC           Reese's Peanut Butter Cups            104940   \n",
       "3    NE                      Sour Patch Kids            105897   \n",
       "4    OR           Reese's Peanut Butter Cups             91740   \n",
       "\n",
       "          2nd Place  2nd Place pounds                   3rd Place  \\\n",
       "0          Snickers            543529  Reese's Peanut Butter Cups   \n",
       "1        Candy Corn             40173                Tootsie Pops   \n",
       "2             M&M's             86689                  Candy Corn   \n",
       "3  Salt Water Taffy             67389                       M&M's   \n",
       "4             M&M's             51374                Tootsie Pops   \n",
       "\n",
       "   3rd Place pounds            NAME                   geo_point_2d  \n",
       "0            194117         Florida  28.4770584262, -82.4664183979  \n",
       "1             34434         Alabama  32.7568799488, -86.8445209909  \n",
       "2             41063  North Carolina  35.5260232743, -79.1309087166  \n",
       "3             24067        Nebraska  41.5271511243, -99.8108558725  \n",
       "4             36696          Oregon  43.9404388614, -120.605272832  "
      ]
     },
     "execution_count": 23,
     "metadata": {},
     "output_type": "execute_result"
    }
   ],
   "source": [
    "candy_df.head()"
   ]
  },
  {
   "cell_type": "code",
   "execution_count": 25,
   "metadata": {},
   "outputs": [],
   "source": [
    "candy_df2 = candy_df.rename(columns={\"Top Candy\": \"1st Place\", \"Top Candy pounds\": \"1st Place pounds\"})"
   ]
  },
  {
   "cell_type": "code",
   "execution_count": 26,
   "metadata": {},
   "outputs": [
    {
     "data": {
      "text/html": [
       "<div>\n",
       "<style scoped>\n",
       "    .dataframe tbody tr th:only-of-type {\n",
       "        vertical-align: middle;\n",
       "    }\n",
       "\n",
       "    .dataframe tbody tr th {\n",
       "        vertical-align: top;\n",
       "    }\n",
       "\n",
       "    .dataframe thead th {\n",
       "        text-align: right;\n",
       "    }\n",
       "</style>\n",
       "<table border=\"1\" class=\"dataframe\">\n",
       "  <thead>\n",
       "    <tr style=\"text-align: right;\">\n",
       "      <th></th>\n",
       "      <th>State</th>\n",
       "      <th>1st Place</th>\n",
       "      <th>1st Place pounds</th>\n",
       "      <th>2nd Place</th>\n",
       "      <th>2nd Place pounds</th>\n",
       "      <th>3rd Place</th>\n",
       "      <th>3rd Place pounds</th>\n",
       "      <th>NAME</th>\n",
       "      <th>geo_point_2d</th>\n",
       "    </tr>\n",
       "  </thead>\n",
       "  <tbody>\n",
       "    <tr>\n",
       "      <th>0</th>\n",
       "      <td>FL</td>\n",
       "      <td>Skittles</td>\n",
       "      <td>660000</td>\n",
       "      <td>Snickers</td>\n",
       "      <td>543529</td>\n",
       "      <td>Reese's Peanut Butter Cups</td>\n",
       "      <td>194117</td>\n",
       "      <td>Florida</td>\n",
       "      <td>28.4770584262, -82.4664183979</td>\n",
       "    </tr>\n",
       "    <tr>\n",
       "      <th>1</th>\n",
       "      <td>AL</td>\n",
       "      <td>Hershey's Mini Chocolate Candy Bars</td>\n",
       "      <td>66000</td>\n",
       "      <td>Candy Corn</td>\n",
       "      <td>40173</td>\n",
       "      <td>Tootsie Pops</td>\n",
       "      <td>34434</td>\n",
       "      <td>Alabama</td>\n",
       "      <td>32.7568799488, -86.8445209909</td>\n",
       "    </tr>\n",
       "    <tr>\n",
       "      <th>2</th>\n",
       "      <td>NC</td>\n",
       "      <td>Reese's Peanut Butter Cups</td>\n",
       "      <td>104940</td>\n",
       "      <td>M&amp;M's</td>\n",
       "      <td>86689</td>\n",
       "      <td>Candy Corn</td>\n",
       "      <td>41063</td>\n",
       "      <td>North Carolina</td>\n",
       "      <td>35.5260232743, -79.1309087166</td>\n",
       "    </tr>\n",
       "    <tr>\n",
       "      <th>3</th>\n",
       "      <td>NE</td>\n",
       "      <td>Sour Patch Kids</td>\n",
       "      <td>105897</td>\n",
       "      <td>Salt Water Taffy</td>\n",
       "      <td>67389</td>\n",
       "      <td>M&amp;M's</td>\n",
       "      <td>24067</td>\n",
       "      <td>Nebraska</td>\n",
       "      <td>41.5271511243, -99.8108558725</td>\n",
       "    </tr>\n",
       "    <tr>\n",
       "      <th>4</th>\n",
       "      <td>OR</td>\n",
       "      <td>Reese's Peanut Butter Cups</td>\n",
       "      <td>91740</td>\n",
       "      <td>M&amp;M's</td>\n",
       "      <td>51374</td>\n",
       "      <td>Tootsie Pops</td>\n",
       "      <td>36696</td>\n",
       "      <td>Oregon</td>\n",
       "      <td>43.9404388614, -120.605272832</td>\n",
       "    </tr>\n",
       "  </tbody>\n",
       "</table>\n",
       "</div>"
      ],
      "text/plain": [
       "  State                            1st Place  1st Place pounds  \\\n",
       "0    FL                             Skittles            660000   \n",
       "1    AL  Hershey's Mini Chocolate Candy Bars             66000   \n",
       "2    NC           Reese's Peanut Butter Cups            104940   \n",
       "3    NE                      Sour Patch Kids            105897   \n",
       "4    OR           Reese's Peanut Butter Cups             91740   \n",
       "\n",
       "          2nd Place  2nd Place pounds                   3rd Place  \\\n",
       "0          Snickers            543529  Reese's Peanut Butter Cups   \n",
       "1        Candy Corn             40173                Tootsie Pops   \n",
       "2             M&M's             86689                  Candy Corn   \n",
       "3  Salt Water Taffy             67389                       M&M's   \n",
       "4             M&M's             51374                Tootsie Pops   \n",
       "\n",
       "   3rd Place pounds            NAME                   geo_point_2d  \n",
       "0            194117         Florida  28.4770584262, -82.4664183979  \n",
       "1             34434         Alabama  32.7568799488, -86.8445209909  \n",
       "2             41063  North Carolina  35.5260232743, -79.1309087166  \n",
       "3             24067        Nebraska  41.5271511243, -99.8108558725  \n",
       "4             36696          Oregon  43.9404388614, -120.605272832  "
      ]
     },
     "execution_count": 26,
     "metadata": {},
     "output_type": "execute_result"
    }
   ],
   "source": [
    "candy_df2.head()"
   ]
  },
  {
   "cell_type": "code",
   "execution_count": 27,
   "metadata": {},
   "outputs": [
    {
     "data": {
      "text/plain": [
       "State               object\n",
       "1st Place           object\n",
       "1st Place pounds     int64\n",
       "2nd Place           object\n",
       "2nd Place pounds     int64\n",
       "3rd Place           object\n",
       "3rd Place pounds     int64\n",
       "NAME                object\n",
       "geo_point_2d        object\n",
       "dtype: object"
      ]
     },
     "execution_count": 27,
     "metadata": {},
     "output_type": "execute_result"
    }
   ],
   "source": [
    "candy_df2.dtypes"
   ]
  },
  {
   "cell_type": "code",
   "execution_count": 28,
   "metadata": {},
   "outputs": [
    {
     "ename": "NameError",
     "evalue": "name 'create_engine' is not defined",
     "output_type": "error",
     "traceback": [
      "\u001b[1;31m---------------------------------------------------------------------------\u001b[0m",
      "\u001b[1;31mNameError\u001b[0m                                 Traceback (most recent call last)",
      "\u001b[1;32m<ipython-input-28-ba5022b1a995>\u001b[0m in \u001b[0;36m<module>\u001b[1;34m\u001b[0m\n\u001b[1;32m----> 1\u001b[1;33m \u001b[0mengine\u001b[0m \u001b[1;33m=\u001b[0m \u001b[0mcreate_engine\u001b[0m\u001b[1;33m(\u001b[0m\u001b[1;34mf\"postgres://{uid}:{pwd}@{server}/{database}\"\u001b[0m\u001b[1;33m)\u001b[0m\u001b[1;33m\u001b[0m\u001b[1;33m\u001b[0m\u001b[0m\n\u001b[0m\u001b[0;32m      2\u001b[0m \u001b[0mcon\u001b[0m \u001b[1;33m=\u001b[0m \u001b[0mengine\u001b[0m\u001b[1;33m.\u001b[0m\u001b[0mconnect\u001b[0m\u001b[1;33m(\u001b[0m\u001b[1;33m)\u001b[0m\u001b[1;33m\u001b[0m\u001b[1;33m\u001b[0m\u001b[0m\n",
      "\u001b[1;31mNameError\u001b[0m: name 'create_engine' is not defined"
     ]
    }
   ],
   "source": [
    "engine = create_engine(f\"postgres://{uid}:{pwd}@{server}/{database}\")\n",
    "con = engine.connect()"
   ]
  },
  {
   "cell_type": "code",
   "execution_count": null,
   "metadata": {},
   "outputs": [],
   "source": [
    "engine.table_names()"
   ]
  },
  {
   "cell_type": "code",
   "execution_count": null,
   "metadata": {},
   "outputs": [],
   "source": [
    "candy_df2.to_sql(name='candy', con=engine, if_exists='append', index=True)"
   ]
  }
 ],
 "metadata": {
  "kernelspec": {
   "display_name": "Python 3",
   "language": "python",
   "name": "python3"
  },
  "language_info": {
   "codemirror_mode": {
    "name": "ipython",
    "version": 3
   },
   "file_extension": ".py",
   "mimetype": "text/x-python",
   "name": "python",
   "nbconvert_exporter": "python",
   "pygments_lexer": "ipython3",
   "version": "3.7.3"
  }
 },
 "nbformat": 4,
 "nbformat_minor": 2
}
